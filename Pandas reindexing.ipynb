{
 "cells": [
  {
   "cell_type": "code",
   "execution_count": 5,
   "metadata": {},
   "outputs": [],
   "source": [
    "import numpy as np\n",
    "import pandas as pd\n",
    "from pandas import Series,DataFrame"
   ]
  },
  {
   "cell_type": "code",
   "execution_count": 7,
   "metadata": {},
   "outputs": [
    {
     "data": {
      "text/plain": [
       "one      1\n",
       "two      2\n",
       "three    3\n",
       "four     4\n",
       "dtype: int64"
      ]
     },
     "execution_count": 7,
     "metadata": {},
     "output_type": "execute_result"
    }
   ],
   "source": [
    "ser1 = Series([1,2,3,4], index = ['one','two','three','four'])\n",
    "ser1"
   ]
  },
  {
   "cell_type": "code",
   "execution_count": 8,
   "metadata": {},
   "outputs": [
    {
     "data": {
      "text/plain": [
       "Index(['one', 'two', 'three', 'four'], dtype='object')"
      ]
     },
     "execution_count": 8,
     "metadata": {},
     "output_type": "execute_result"
    }
   ],
   "source": [
    "my_index = ser1.index\n",
    "my_index"
   ]
  },
  {
   "cell_type": "code",
   "execution_count": 9,
   "metadata": {},
   "outputs": [
    {
     "data": {
      "text/plain": [
       "'two'"
      ]
     },
     "execution_count": 9,
     "metadata": {},
     "output_type": "execute_result"
    }
   ],
   "source": [
    "my_index[1]"
   ]
  },
  {
   "cell_type": "markdown",
   "metadata": {},
   "source": [
    "# we can't assign new index value since indexes are immutable"
   ]
  },
  {
   "cell_type": "code",
   "execution_count": 15,
   "metadata": {},
   "outputs": [
    {
     "data": {
      "text/plain": [
       "A        NaN\n",
       "B        NaN\n",
       "C        NaN\n",
       "D        NaN\n",
       "one      1.0\n",
       "two      2.0\n",
       "three    3.0\n",
       "dtype: float64"
      ]
     },
     "execution_count": 15,
     "metadata": {},
     "output_type": "execute_result"
    }
   ],
   "source": [
    "ser2 = ser1.reindex(['A','B','C','D','one','two','three'])\n",
    "ser2"
   ]
  },
  {
   "cell_type": "code",
   "execution_count": 17,
   "metadata": {},
   "outputs": [
    {
     "data": {
      "text/plain": [
       "A        0\n",
       "B        0\n",
       "C        0\n",
       "D        0\n",
       "one      1\n",
       "two      2\n",
       "three    3\n",
       "dtype: int64"
      ]
     },
     "execution_count": 17,
     "metadata": {},
     "output_type": "execute_result"
    }
   ],
   "source": [
    "ser2 = ser1.reindex(['A','B','C','D','one','two','three'], fill_value=0)\n",
    "ser2"
   ]
  },
  {
   "cell_type": "code",
   "execution_count": 20,
   "metadata": {},
   "outputs": [
    {
     "data": {
      "text/plain": [
       "1        cat\n",
       "5        dog\n",
       "9     rabbit\n",
       "18     panda\n",
       "dtype: object"
      ]
     },
     "execution_count": 20,
     "metadata": {},
     "output_type": "execute_result"
    }
   ],
   "source": [
    "ser3 = Series(['cat','dog','rabbit','panda'], index=[1,5,9,18])\n",
    "ser3"
   ]
  },
  {
   "cell_type": "code",
   "execution_count": 21,
   "metadata": {},
   "outputs": [
    {
     "data": {
      "text/plain": [
       "0        NaN\n",
       "1        cat\n",
       "2        cat\n",
       "3        cat\n",
       "4        cat\n",
       "5        dog\n",
       "6        dog\n",
       "7        dog\n",
       "8        dog\n",
       "9     rabbit\n",
       "10    rabbit\n",
       "11    rabbit\n",
       "12    rabbit\n",
       "13    rabbit\n",
       "14    rabbit\n",
       "15    rabbit\n",
       "16    rabbit\n",
       "17    rabbit\n",
       "18     panda\n",
       "19     panda\n",
       "dtype: object"
      ]
     },
     "execution_count": 21,
     "metadata": {},
     "output_type": "execute_result"
    }
   ],
   "source": [
    "ser4 = ser3.reindex(range(20),method='ffill')\n",
    "ser4"
   ]
  },
  {
   "cell_type": "markdown",
   "metadata": {},
   "source": [
    "# to reindex both rows and columns in a DataFrame"
   ]
  },
  {
   "cell_type": "code",
   "execution_count": 24,
   "metadata": {},
   "outputs": [
    {
     "data": {
      "text/html": [
       "<div>\n",
       "<style scoped>\n",
       "    .dataframe tbody tr th:only-of-type {\n",
       "        vertical-align: middle;\n",
       "    }\n",
       "\n",
       "    .dataframe tbody tr th {\n",
       "        vertical-align: top;\n",
       "    }\n",
       "\n",
       "    .dataframe thead th {\n",
       "        text-align: right;\n",
       "    }\n",
       "</style>\n",
       "<table border=\"1\" class=\"dataframe\">\n",
       "  <thead>\n",
       "    <tr style=\"text-align: right;\">\n",
       "      <th></th>\n",
       "      <th>C1</th>\n",
       "      <th>C2</th>\n",
       "      <th>C3</th>\n",
       "      <th>C5</th>\n",
       "      <th>C6</th>\n",
       "    </tr>\n",
       "  </thead>\n",
       "  <tbody>\n",
       "    <tr>\n",
       "      <th>A</th>\n",
       "      <td>0.853282</td>\n",
       "      <td>1.335115</td>\n",
       "      <td>1.245887</td>\n",
       "      <td>-0.850124</td>\n",
       "      <td>-1.273454</td>\n",
       "    </tr>\n",
       "    <tr>\n",
       "      <th>B</th>\n",
       "      <td>0.895954</td>\n",
       "      <td>-0.505880</td>\n",
       "      <td>-1.707068</td>\n",
       "      <td>1.164469</td>\n",
       "      <td>0.763711</td>\n",
       "    </tr>\n",
       "    <tr>\n",
       "      <th>C</th>\n",
       "      <td>0.738317</td>\n",
       "      <td>-0.092123</td>\n",
       "      <td>2.091589</td>\n",
       "      <td>1.247904</td>\n",
       "      <td>0.681178</td>\n",
       "    </tr>\n",
       "    <tr>\n",
       "      <th>E</th>\n",
       "      <td>-0.643707</td>\n",
       "      <td>-0.425711</td>\n",
       "      <td>-0.712917</td>\n",
       "      <td>-1.112634</td>\n",
       "      <td>-0.418952</td>\n",
       "    </tr>\n",
       "    <tr>\n",
       "      <th>F</th>\n",
       "      <td>0.057736</td>\n",
       "      <td>-0.718050</td>\n",
       "      <td>-0.334812</td>\n",
       "      <td>-0.630886</td>\n",
       "      <td>1.155243</td>\n",
       "    </tr>\n",
       "  </tbody>\n",
       "</table>\n",
       "</div>"
      ],
      "text/plain": [
       "         C1        C2        C3        C5        C6\n",
       "A  0.853282  1.335115  1.245887 -0.850124 -1.273454\n",
       "B  0.895954 -0.505880 -1.707068  1.164469  0.763711\n",
       "C  0.738317 -0.092123  2.091589  1.247904  0.681178\n",
       "E -0.643707 -0.425711 -0.712917 -1.112634 -0.418952\n",
       "F  0.057736 -0.718050 -0.334812 -0.630886  1.155243"
      ]
     },
     "execution_count": 24,
     "metadata": {},
     "output_type": "execute_result"
    }
   ],
   "source": [
    "new_df = DataFrame((np.random.randn(25)).reshape(5,5), index = ['A','B','C','E','F'], columns = ['C1','C2','C3','C5','C6'])\n",
    "new_df"
   ]
  },
  {
   "cell_type": "code",
   "execution_count": 25,
   "metadata": {},
   "outputs": [
    {
     "data": {
      "text/html": [
       "<div>\n",
       "<style scoped>\n",
       "    .dataframe tbody tr th:only-of-type {\n",
       "        vertical-align: middle;\n",
       "    }\n",
       "\n",
       "    .dataframe tbody tr th {\n",
       "        vertical-align: top;\n",
       "    }\n",
       "\n",
       "    .dataframe thead th {\n",
       "        text-align: right;\n",
       "    }\n",
       "</style>\n",
       "<table border=\"1\" class=\"dataframe\">\n",
       "  <thead>\n",
       "    <tr style=\"text-align: right;\">\n",
       "      <th></th>\n",
       "      <th>C1</th>\n",
       "      <th>C2</th>\n",
       "      <th>C3</th>\n",
       "      <th>C5</th>\n",
       "      <th>C6</th>\n",
       "    </tr>\n",
       "  </thead>\n",
       "  <tbody>\n",
       "    <tr>\n",
       "      <th>A</th>\n",
       "      <td>0.853282</td>\n",
       "      <td>1.335115</td>\n",
       "      <td>1.245887</td>\n",
       "      <td>-0.850124</td>\n",
       "      <td>-1.273454</td>\n",
       "    </tr>\n",
       "    <tr>\n",
       "      <th>B</th>\n",
       "      <td>0.895954</td>\n",
       "      <td>-0.505880</td>\n",
       "      <td>-1.707068</td>\n",
       "      <td>1.164469</td>\n",
       "      <td>0.763711</td>\n",
       "    </tr>\n",
       "    <tr>\n",
       "      <th>C</th>\n",
       "      <td>0.738317</td>\n",
       "      <td>-0.092123</td>\n",
       "      <td>2.091589</td>\n",
       "      <td>1.247904</td>\n",
       "      <td>0.681178</td>\n",
       "    </tr>\n",
       "    <tr>\n",
       "      <th>D</th>\n",
       "      <td>NaN</td>\n",
       "      <td>NaN</td>\n",
       "      <td>NaN</td>\n",
       "      <td>NaN</td>\n",
       "      <td>NaN</td>\n",
       "    </tr>\n",
       "    <tr>\n",
       "      <th>E</th>\n",
       "      <td>-0.643707</td>\n",
       "      <td>-0.425711</td>\n",
       "      <td>-0.712917</td>\n",
       "      <td>-1.112634</td>\n",
       "      <td>-0.418952</td>\n",
       "    </tr>\n",
       "    <tr>\n",
       "      <th>F</th>\n",
       "      <td>0.057736</td>\n",
       "      <td>-0.718050</td>\n",
       "      <td>-0.334812</td>\n",
       "      <td>-0.630886</td>\n",
       "      <td>1.155243</td>\n",
       "    </tr>\n",
       "  </tbody>\n",
       "</table>\n",
       "</div>"
      ],
      "text/plain": [
       "         C1        C2        C3        C5        C6\n",
       "A  0.853282  1.335115  1.245887 -0.850124 -1.273454\n",
       "B  0.895954 -0.505880 -1.707068  1.164469  0.763711\n",
       "C  0.738317 -0.092123  2.091589  1.247904  0.681178\n",
       "D       NaN       NaN       NaN       NaN       NaN\n",
       "E -0.643707 -0.425711 -0.712917 -1.112634 -0.418952\n",
       "F  0.057736 -0.718050 -0.334812 -0.630886  1.155243"
      ]
     },
     "execution_count": 25,
     "metadata": {},
     "output_type": "execute_result"
    }
   ],
   "source": [
    "df1 = new_df.reindex(['A','B','C','D','E','F'])\n",
    "df1"
   ]
  },
  {
   "cell_type": "code",
   "execution_count": 26,
   "metadata": {},
   "outputs": [
    {
     "data": {
      "text/html": [
       "<div>\n",
       "<style scoped>\n",
       "    .dataframe tbody tr th:only-of-type {\n",
       "        vertical-align: middle;\n",
       "    }\n",
       "\n",
       "    .dataframe tbody tr th {\n",
       "        vertical-align: top;\n",
       "    }\n",
       "\n",
       "    .dataframe thead th {\n",
       "        text-align: right;\n",
       "    }\n",
       "</style>\n",
       "<table border=\"1\" class=\"dataframe\">\n",
       "  <thead>\n",
       "    <tr style=\"text-align: right;\">\n",
       "      <th></th>\n",
       "      <th>C1</th>\n",
       "      <th>C2</th>\n",
       "      <th>C3</th>\n",
       "      <th>C4</th>\n",
       "      <th>C5</th>\n",
       "      <th>C6</th>\n",
       "    </tr>\n",
       "  </thead>\n",
       "  <tbody>\n",
       "    <tr>\n",
       "      <th>A</th>\n",
       "      <td>0.853282</td>\n",
       "      <td>1.335115</td>\n",
       "      <td>1.245887</td>\n",
       "      <td>NaN</td>\n",
       "      <td>-0.850124</td>\n",
       "      <td>-1.273454</td>\n",
       "    </tr>\n",
       "    <tr>\n",
       "      <th>B</th>\n",
       "      <td>0.895954</td>\n",
       "      <td>-0.505880</td>\n",
       "      <td>-1.707068</td>\n",
       "      <td>NaN</td>\n",
       "      <td>1.164469</td>\n",
       "      <td>0.763711</td>\n",
       "    </tr>\n",
       "    <tr>\n",
       "      <th>C</th>\n",
       "      <td>0.738317</td>\n",
       "      <td>-0.092123</td>\n",
       "      <td>2.091589</td>\n",
       "      <td>NaN</td>\n",
       "      <td>1.247904</td>\n",
       "      <td>0.681178</td>\n",
       "    </tr>\n",
       "    <tr>\n",
       "      <th>E</th>\n",
       "      <td>-0.643707</td>\n",
       "      <td>-0.425711</td>\n",
       "      <td>-0.712917</td>\n",
       "      <td>NaN</td>\n",
       "      <td>-1.112634</td>\n",
       "      <td>-0.418952</td>\n",
       "    </tr>\n",
       "    <tr>\n",
       "      <th>F</th>\n",
       "      <td>0.057736</td>\n",
       "      <td>-0.718050</td>\n",
       "      <td>-0.334812</td>\n",
       "      <td>NaN</td>\n",
       "      <td>-0.630886</td>\n",
       "      <td>1.155243</td>\n",
       "    </tr>\n",
       "  </tbody>\n",
       "</table>\n",
       "</div>"
      ],
      "text/plain": [
       "         C1        C2        C3  C4        C5        C6\n",
       "A  0.853282  1.335115  1.245887 NaN -0.850124 -1.273454\n",
       "B  0.895954 -0.505880 -1.707068 NaN  1.164469  0.763711\n",
       "C  0.738317 -0.092123  2.091589 NaN  1.247904  0.681178\n",
       "E -0.643707 -0.425711 -0.712917 NaN -1.112634 -0.418952\n",
       "F  0.057736 -0.718050 -0.334812 NaN -0.630886  1.155243"
      ]
     },
     "execution_count": 26,
     "metadata": {},
     "output_type": "execute_result"
    }
   ],
   "source": [
    "df2 = new_df.reindex(columns = ['C1','C2','C3','C4','C5','C6'])\n",
    "df2"
   ]
  },
  {
   "cell_type": "code",
   "execution_count": 30,
   "metadata": {},
   "outputs": [
    {
     "data": {
      "text/html": [
       "<div>\n",
       "<style scoped>\n",
       "    .dataframe tbody tr th:only-of-type {\n",
       "        vertical-align: middle;\n",
       "    }\n",
       "\n",
       "    .dataframe tbody tr th {\n",
       "        vertical-align: top;\n",
       "    }\n",
       "\n",
       "    .dataframe thead th {\n",
       "        text-align: right;\n",
       "    }\n",
       "</style>\n",
       "<table border=\"1\" class=\"dataframe\">\n",
       "  <thead>\n",
       "    <tr style=\"text-align: right;\">\n",
       "      <th></th>\n",
       "      <th>C1</th>\n",
       "      <th>C2</th>\n",
       "      <th>C3</th>\n",
       "      <th>C4</th>\n",
       "      <th>C5</th>\n",
       "      <th>C6</th>\n",
       "    </tr>\n",
       "  </thead>\n",
       "  <tbody>\n",
       "    <tr>\n",
       "      <th>A</th>\n",
       "      <td>0.853282</td>\n",
       "      <td>1.335115</td>\n",
       "      <td>1.245887</td>\n",
       "      <td>NaN</td>\n",
       "      <td>-0.850124</td>\n",
       "      <td>-1.273454</td>\n",
       "    </tr>\n",
       "    <tr>\n",
       "      <th>B</th>\n",
       "      <td>0.895954</td>\n",
       "      <td>-0.505880</td>\n",
       "      <td>-1.707068</td>\n",
       "      <td>NaN</td>\n",
       "      <td>1.164469</td>\n",
       "      <td>0.763711</td>\n",
       "    </tr>\n",
       "    <tr>\n",
       "      <th>C</th>\n",
       "      <td>0.738317</td>\n",
       "      <td>-0.092123</td>\n",
       "      <td>2.091589</td>\n",
       "      <td>NaN</td>\n",
       "      <td>1.247904</td>\n",
       "      <td>0.681178</td>\n",
       "    </tr>\n",
       "    <tr>\n",
       "      <th>D</th>\n",
       "      <td>NaN</td>\n",
       "      <td>NaN</td>\n",
       "      <td>NaN</td>\n",
       "      <td>NaN</td>\n",
       "      <td>NaN</td>\n",
       "      <td>NaN</td>\n",
       "    </tr>\n",
       "    <tr>\n",
       "      <th>E</th>\n",
       "      <td>-0.643707</td>\n",
       "      <td>-0.425711</td>\n",
       "      <td>-0.712917</td>\n",
       "      <td>NaN</td>\n",
       "      <td>-1.112634</td>\n",
       "      <td>-0.418952</td>\n",
       "    </tr>\n",
       "    <tr>\n",
       "      <th>F</th>\n",
       "      <td>0.057736</td>\n",
       "      <td>-0.718050</td>\n",
       "      <td>-0.334812</td>\n",
       "      <td>NaN</td>\n",
       "      <td>-0.630886</td>\n",
       "      <td>1.155243</td>\n",
       "    </tr>\n",
       "  </tbody>\n",
       "</table>\n",
       "</div>"
      ],
      "text/plain": [
       "         C1        C2        C3  C4        C5        C6\n",
       "A  0.853282  1.335115  1.245887 NaN -0.850124 -1.273454\n",
       "B  0.895954 -0.505880 -1.707068 NaN  1.164469  0.763711\n",
       "C  0.738317 -0.092123  2.091589 NaN  1.247904  0.681178\n",
       "D       NaN       NaN       NaN NaN       NaN       NaN\n",
       "E -0.643707 -0.425711 -0.712917 NaN -1.112634 -0.418952\n",
       "F  0.057736 -0.718050 -0.334812 NaN -0.630886  1.155243"
      ]
     },
     "execution_count": 30,
     "metadata": {},
     "output_type": "execute_result"
    }
   ],
   "source": [
    "my_df = new_df.reindex(['A','B','C','D','E','F'],columns = ['C1','C2','C3','C4','C5','C6'])\n",
    "my_df"
   ]
  },
  {
   "cell_type": "code",
   "execution_count": null,
   "metadata": {},
   "outputs": [],
   "source": []
  }
 ],
 "metadata": {
  "kernelspec": {
   "display_name": "Python 3",
   "language": "python",
   "name": "python3"
  },
  "language_info": {
   "codemirror_mode": {
    "name": "ipython",
    "version": 3
   },
   "file_extension": ".py",
   "mimetype": "text/x-python",
   "name": "python",
   "nbconvert_exporter": "python",
   "pygments_lexer": "ipython3",
   "version": "3.8.5"
  }
 },
 "nbformat": 4,
 "nbformat_minor": 4
}
