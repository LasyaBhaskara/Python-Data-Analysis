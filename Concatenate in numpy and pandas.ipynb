{
 "cells": [
  {
   "cell_type": "code",
   "execution_count": 1,
   "metadata": {},
   "outputs": [],
   "source": [
    "import numpy as np\n",
    "import pandas as pd\n",
    "from numpy.random import randn\n",
    "from pandas import Series,DataFrame"
   ]
  },
  {
   "cell_type": "markdown",
   "metadata": {},
   "source": [
    "# concatenate in numpy"
   ]
  },
  {
   "cell_type": "code",
   "execution_count": 2,
   "metadata": {},
   "outputs": [
    {
     "data": {
      "text/plain": [
       "array([[1, 2, 3],\n",
       "       [4, 5, 6],\n",
       "       [7, 8, 9]])"
      ]
     },
     "execution_count": 2,
     "metadata": {},
     "output_type": "execute_result"
    }
   ],
   "source": [
    "arr1 = np.array([[1,2,3],[4,5,6],[7,8,9]])\n",
    "arr1"
   ]
  },
  {
   "cell_type": "code",
   "execution_count": 3,
   "metadata": {},
   "outputs": [
    {
     "data": {
      "text/plain": [
       "array([[1, 2, 3],\n",
       "       [4, 5, 6],\n",
       "       [7, 8, 9],\n",
       "       [1, 2, 3],\n",
       "       [4, 5, 6],\n",
       "       [7, 8, 9]])"
      ]
     },
     "execution_count": 3,
     "metadata": {},
     "output_type": "execute_result"
    }
   ],
   "source": [
    "np.concatenate([arr1,arr1]) # default axis = 0 i.e index wise"
   ]
  },
  {
   "cell_type": "code",
   "execution_count": 4,
   "metadata": {},
   "outputs": [
    {
     "data": {
      "text/plain": [
       "array([[1, 2, 3, 1, 2, 3],\n",
       "       [4, 5, 6, 4, 5, 6],\n",
       "       [7, 8, 9, 7, 8, 9]])"
      ]
     },
     "execution_count": 4,
     "metadata": {},
     "output_type": "execute_result"
    }
   ],
   "source": [
    "np.concatenate([arr1,arr1],axis=1) # column wise"
   ]
  },
  {
   "cell_type": "markdown",
   "metadata": {},
   "source": [
    "# concatenate in pandas"
   ]
  },
  {
   "cell_type": "code",
   "execution_count": 5,
   "metadata": {},
   "outputs": [
    {
     "data": {
      "text/plain": [
       "A    0.099430\n",
       "B    1.706234\n",
       "C    0.550555\n",
       "D   -1.396472\n",
       "E   -1.306641\n",
       "dtype: float64"
      ]
     },
     "execution_count": 5,
     "metadata": {},
     "output_type": "execute_result"
    }
   ],
   "source": [
    "ser1 = Series(randn(5),index=['A','B','C','D','E'])\n",
    "ser1"
   ]
  },
  {
   "cell_type": "code",
   "execution_count": 7,
   "metadata": {},
   "outputs": [
    {
     "data": {
      "text/plain": [
       "E   -0.328608\n",
       "F   -0.714351\n",
       "G   -0.180004\n",
       "dtype: float64"
      ]
     },
     "execution_count": 7,
     "metadata": {},
     "output_type": "execute_result"
    }
   ],
   "source": [
    "ser2 = Series(randn(3),index=['E','F','G'])\n",
    "ser2"
   ]
  },
  {
   "cell_type": "code",
   "execution_count": 8,
   "metadata": {},
   "outputs": [
    {
     "data": {
      "text/plain": [
       "A    0.099430\n",
       "B    1.706234\n",
       "C    0.550555\n",
       "D   -1.396472\n",
       "E   -1.306641\n",
       "E   -0.328608\n",
       "F   -0.714351\n",
       "G   -0.180004\n",
       "dtype: float64"
      ]
     },
     "execution_count": 8,
     "metadata": {},
     "output_type": "execute_result"
    }
   ],
   "source": [
    "pd.concat([ser1,ser2]) # default axis=0 i.e index wise"
   ]
  },
  {
   "cell_type": "code",
   "execution_count": 11,
   "metadata": {},
   "outputs": [
    {
     "data": {
      "text/plain": [
       "First   A    0.099430\n",
       "        B    1.706234\n",
       "        C    0.550555\n",
       "        D   -1.396472\n",
       "        E   -1.306641\n",
       "Second  E   -0.328608\n",
       "        F   -0.714351\n",
       "        G   -0.180004\n",
       "dtype: float64"
      ]
     },
     "execution_count": 11,
     "metadata": {},
     "output_type": "execute_result"
    }
   ],
   "source": [
    "# we can also assign another index to each of the above series to access the individual series(index hierarchy)\n",
    "pd.concat([ser1,ser2],keys=['First','Second'])"
   ]
  },
  {
   "cell_type": "code",
   "execution_count": 9,
   "metadata": {},
   "outputs": [
    {
     "data": {
      "text/html": [
       "<div>\n",
       "<style scoped>\n",
       "    .dataframe tbody tr th:only-of-type {\n",
       "        vertical-align: middle;\n",
       "    }\n",
       "\n",
       "    .dataframe tbody tr th {\n",
       "        vertical-align: top;\n",
       "    }\n",
       "\n",
       "    .dataframe thead th {\n",
       "        text-align: right;\n",
       "    }\n",
       "</style>\n",
       "<table border=\"1\" class=\"dataframe\">\n",
       "  <thead>\n",
       "    <tr style=\"text-align: right;\">\n",
       "      <th></th>\n",
       "      <th>0</th>\n",
       "      <th>1</th>\n",
       "    </tr>\n",
       "  </thead>\n",
       "  <tbody>\n",
       "    <tr>\n",
       "      <th>A</th>\n",
       "      <td>0.099430</td>\n",
       "      <td>NaN</td>\n",
       "    </tr>\n",
       "    <tr>\n",
       "      <th>B</th>\n",
       "      <td>1.706234</td>\n",
       "      <td>NaN</td>\n",
       "    </tr>\n",
       "    <tr>\n",
       "      <th>C</th>\n",
       "      <td>0.550555</td>\n",
       "      <td>NaN</td>\n",
       "    </tr>\n",
       "    <tr>\n",
       "      <th>D</th>\n",
       "      <td>-1.396472</td>\n",
       "      <td>NaN</td>\n",
       "    </tr>\n",
       "    <tr>\n",
       "      <th>E</th>\n",
       "      <td>-1.306641</td>\n",
       "      <td>-0.328608</td>\n",
       "    </tr>\n",
       "    <tr>\n",
       "      <th>F</th>\n",
       "      <td>NaN</td>\n",
       "      <td>-0.714351</td>\n",
       "    </tr>\n",
       "    <tr>\n",
       "      <th>G</th>\n",
       "      <td>NaN</td>\n",
       "      <td>-0.180004</td>\n",
       "    </tr>\n",
       "  </tbody>\n",
       "</table>\n",
       "</div>"
      ],
      "text/plain": [
       "          0         1\n",
       "A  0.099430       NaN\n",
       "B  1.706234       NaN\n",
       "C  0.550555       NaN\n",
       "D -1.396472       NaN\n",
       "E -1.306641 -0.328608\n",
       "F       NaN -0.714351\n",
       "G       NaN -0.180004"
      ]
     },
     "execution_count": 9,
     "metadata": {},
     "output_type": "execute_result"
    }
   ],
   "source": [
    "pd.concat([ser1,ser2],axis=1) # series side by side concat implies this will result in dataframe**"
   ]
  },
  {
   "cell_type": "code",
   "execution_count": 12,
   "metadata": {},
   "outputs": [
    {
     "data": {
      "text/html": [
       "<div>\n",
       "<style scoped>\n",
       "    .dataframe tbody tr th:only-of-type {\n",
       "        vertical-align: middle;\n",
       "    }\n",
       "\n",
       "    .dataframe tbody tr th {\n",
       "        vertical-align: top;\n",
       "    }\n",
       "\n",
       "    .dataframe thead th {\n",
       "        text-align: right;\n",
       "    }\n",
       "</style>\n",
       "<table border=\"1\" class=\"dataframe\">\n",
       "  <thead>\n",
       "    <tr style=\"text-align: right;\">\n",
       "      <th></th>\n",
       "      <th>A</th>\n",
       "      <th>B</th>\n",
       "      <th>C</th>\n",
       "      <th>D</th>\n",
       "    </tr>\n",
       "  </thead>\n",
       "  <tbody>\n",
       "    <tr>\n",
       "      <th>0</th>\n",
       "      <td>2.098433</td>\n",
       "      <td>-0.739029</td>\n",
       "      <td>0.972341</td>\n",
       "      <td>1.042594</td>\n",
       "    </tr>\n",
       "    <tr>\n",
       "      <th>1</th>\n",
       "      <td>0.059471</td>\n",
       "      <td>-0.114141</td>\n",
       "      <td>-1.092738</td>\n",
       "      <td>-0.411650</td>\n",
       "    </tr>\n",
       "    <tr>\n",
       "      <th>2</th>\n",
       "      <td>2.299899</td>\n",
       "      <td>-2.190326</td>\n",
       "      <td>0.286111</td>\n",
       "      <td>-0.447949</td>\n",
       "    </tr>\n",
       "    <tr>\n",
       "      <th>3</th>\n",
       "      <td>0.321039</td>\n",
       "      <td>0.489466</td>\n",
       "      <td>0.563414</td>\n",
       "      <td>-0.652228</td>\n",
       "    </tr>\n",
       "  </tbody>\n",
       "</table>\n",
       "</div>"
      ],
      "text/plain": [
       "          A         B         C         D\n",
       "0  2.098433 -0.739029  0.972341  1.042594\n",
       "1  0.059471 -0.114141 -1.092738 -0.411650\n",
       "2  2.299899 -2.190326  0.286111 -0.447949\n",
       "3  0.321039  0.489466  0.563414 -0.652228"
      ]
     },
     "execution_count": 12,
     "metadata": {},
     "output_type": "execute_result"
    }
   ],
   "source": [
    "df1 = DataFrame(randn(4,4),columns=['A','B','C','D'])\n",
    "df1"
   ]
  },
  {
   "cell_type": "code",
   "execution_count": 15,
   "metadata": {},
   "outputs": [
    {
     "data": {
      "text/html": [
       "<div>\n",
       "<style scoped>\n",
       "    .dataframe tbody tr th:only-of-type {\n",
       "        vertical-align: middle;\n",
       "    }\n",
       "\n",
       "    .dataframe tbody tr th {\n",
       "        vertical-align: top;\n",
       "    }\n",
       "\n",
       "    .dataframe thead th {\n",
       "        text-align: right;\n",
       "    }\n",
       "</style>\n",
       "<table border=\"1\" class=\"dataframe\">\n",
       "  <thead>\n",
       "    <tr style=\"text-align: right;\">\n",
       "      <th></th>\n",
       "      <th>D</th>\n",
       "      <th>B</th>\n",
       "      <th>E</th>\n",
       "      <th>F</th>\n",
       "      <th>G</th>\n",
       "    </tr>\n",
       "  </thead>\n",
       "  <tbody>\n",
       "    <tr>\n",
       "      <th>0</th>\n",
       "      <td>-0.547244</td>\n",
       "      <td>0.142348</td>\n",
       "      <td>-1.744574</td>\n",
       "      <td>-0.028811</td>\n",
       "      <td>-1.179137</td>\n",
       "    </tr>\n",
       "    <tr>\n",
       "      <th>1</th>\n",
       "      <td>-1.148326</td>\n",
       "      <td>0.141600</td>\n",
       "      <td>0.364796</td>\n",
       "      <td>-1.601593</td>\n",
       "      <td>1.736619</td>\n",
       "    </tr>\n",
       "    <tr>\n",
       "      <th>2</th>\n",
       "      <td>-1.829275</td>\n",
       "      <td>-0.140747</td>\n",
       "      <td>0.732179</td>\n",
       "      <td>-1.037417</td>\n",
       "      <td>1.166752</td>\n",
       "    </tr>\n",
       "    <tr>\n",
       "      <th>3</th>\n",
       "      <td>1.068884</td>\n",
       "      <td>0.132569</td>\n",
       "      <td>0.777326</td>\n",
       "      <td>-0.713951</td>\n",
       "      <td>0.684661</td>\n",
       "    </tr>\n",
       "    <tr>\n",
       "      <th>4</th>\n",
       "      <td>-0.451675</td>\n",
       "      <td>-0.227335</td>\n",
       "      <td>1.136526</td>\n",
       "      <td>-1.660873</td>\n",
       "      <td>0.005942</td>\n",
       "    </tr>\n",
       "  </tbody>\n",
       "</table>\n",
       "</div>"
      ],
      "text/plain": [
       "          D         B         E         F         G\n",
       "0 -0.547244  0.142348 -1.744574 -0.028811 -1.179137\n",
       "1 -1.148326  0.141600  0.364796 -1.601593  1.736619\n",
       "2 -1.829275 -0.140747  0.732179 -1.037417  1.166752\n",
       "3  1.068884  0.132569  0.777326 -0.713951  0.684661\n",
       "4 -0.451675 -0.227335  1.136526 -1.660873  0.005942"
      ]
     },
     "execution_count": 15,
     "metadata": {},
     "output_type": "execute_result"
    }
   ],
   "source": [
    "df2 = DataFrame(randn(5,5),columns=['D','B','E','F','G'])\n",
    "df2"
   ]
  },
  {
   "cell_type": "code",
   "execution_count": 16,
   "metadata": {},
   "outputs": [
    {
     "data": {
      "text/html": [
       "<div>\n",
       "<style scoped>\n",
       "    .dataframe tbody tr th:only-of-type {\n",
       "        vertical-align: middle;\n",
       "    }\n",
       "\n",
       "    .dataframe tbody tr th {\n",
       "        vertical-align: top;\n",
       "    }\n",
       "\n",
       "    .dataframe thead th {\n",
       "        text-align: right;\n",
       "    }\n",
       "</style>\n",
       "<table border=\"1\" class=\"dataframe\">\n",
       "  <thead>\n",
       "    <tr style=\"text-align: right;\">\n",
       "      <th></th>\n",
       "      <th>A</th>\n",
       "      <th>B</th>\n",
       "      <th>C</th>\n",
       "      <th>D</th>\n",
       "      <th>E</th>\n",
       "      <th>F</th>\n",
       "      <th>G</th>\n",
       "    </tr>\n",
       "  </thead>\n",
       "  <tbody>\n",
       "    <tr>\n",
       "      <th>0</th>\n",
       "      <td>2.098433</td>\n",
       "      <td>-0.739029</td>\n",
       "      <td>0.972341</td>\n",
       "      <td>1.042594</td>\n",
       "      <td>NaN</td>\n",
       "      <td>NaN</td>\n",
       "      <td>NaN</td>\n",
       "    </tr>\n",
       "    <tr>\n",
       "      <th>1</th>\n",
       "      <td>0.059471</td>\n",
       "      <td>-0.114141</td>\n",
       "      <td>-1.092738</td>\n",
       "      <td>-0.411650</td>\n",
       "      <td>NaN</td>\n",
       "      <td>NaN</td>\n",
       "      <td>NaN</td>\n",
       "    </tr>\n",
       "    <tr>\n",
       "      <th>2</th>\n",
       "      <td>2.299899</td>\n",
       "      <td>-2.190326</td>\n",
       "      <td>0.286111</td>\n",
       "      <td>-0.447949</td>\n",
       "      <td>NaN</td>\n",
       "      <td>NaN</td>\n",
       "      <td>NaN</td>\n",
       "    </tr>\n",
       "    <tr>\n",
       "      <th>3</th>\n",
       "      <td>0.321039</td>\n",
       "      <td>0.489466</td>\n",
       "      <td>0.563414</td>\n",
       "      <td>-0.652228</td>\n",
       "      <td>NaN</td>\n",
       "      <td>NaN</td>\n",
       "      <td>NaN</td>\n",
       "    </tr>\n",
       "    <tr>\n",
       "      <th>0</th>\n",
       "      <td>NaN</td>\n",
       "      <td>0.142348</td>\n",
       "      <td>NaN</td>\n",
       "      <td>-0.547244</td>\n",
       "      <td>-1.744574</td>\n",
       "      <td>-0.028811</td>\n",
       "      <td>-1.179137</td>\n",
       "    </tr>\n",
       "    <tr>\n",
       "      <th>1</th>\n",
       "      <td>NaN</td>\n",
       "      <td>0.141600</td>\n",
       "      <td>NaN</td>\n",
       "      <td>-1.148326</td>\n",
       "      <td>0.364796</td>\n",
       "      <td>-1.601593</td>\n",
       "      <td>1.736619</td>\n",
       "    </tr>\n",
       "    <tr>\n",
       "      <th>2</th>\n",
       "      <td>NaN</td>\n",
       "      <td>-0.140747</td>\n",
       "      <td>NaN</td>\n",
       "      <td>-1.829275</td>\n",
       "      <td>0.732179</td>\n",
       "      <td>-1.037417</td>\n",
       "      <td>1.166752</td>\n",
       "    </tr>\n",
       "    <tr>\n",
       "      <th>3</th>\n",
       "      <td>NaN</td>\n",
       "      <td>0.132569</td>\n",
       "      <td>NaN</td>\n",
       "      <td>1.068884</td>\n",
       "      <td>0.777326</td>\n",
       "      <td>-0.713951</td>\n",
       "      <td>0.684661</td>\n",
       "    </tr>\n",
       "    <tr>\n",
       "      <th>4</th>\n",
       "      <td>NaN</td>\n",
       "      <td>-0.227335</td>\n",
       "      <td>NaN</td>\n",
       "      <td>-0.451675</td>\n",
       "      <td>1.136526</td>\n",
       "      <td>-1.660873</td>\n",
       "      <td>0.005942</td>\n",
       "    </tr>\n",
       "  </tbody>\n",
       "</table>\n",
       "</div>"
      ],
      "text/plain": [
       "          A         B         C         D         E         F         G\n",
       "0  2.098433 -0.739029  0.972341  1.042594       NaN       NaN       NaN\n",
       "1  0.059471 -0.114141 -1.092738 -0.411650       NaN       NaN       NaN\n",
       "2  2.299899 -2.190326  0.286111 -0.447949       NaN       NaN       NaN\n",
       "3  0.321039  0.489466  0.563414 -0.652228       NaN       NaN       NaN\n",
       "0       NaN  0.142348       NaN -0.547244 -1.744574 -0.028811 -1.179137\n",
       "1       NaN  0.141600       NaN -1.148326  0.364796 -1.601593  1.736619\n",
       "2       NaN -0.140747       NaN -1.829275  0.732179 -1.037417  1.166752\n",
       "3       NaN  0.132569       NaN  1.068884  0.777326 -0.713951  0.684661\n",
       "4       NaN -0.227335       NaN -0.451675  1.136526 -1.660873  0.005942"
      ]
     },
     "execution_count": 16,
     "metadata": {},
     "output_type": "execute_result"
    }
   ],
   "source": [
    "pd.concat([df1,df2])"
   ]
  },
  {
   "cell_type": "code",
   "execution_count": 17,
   "metadata": {},
   "outputs": [
    {
     "data": {
      "text/html": [
       "<div>\n",
       "<style scoped>\n",
       "    .dataframe tbody tr th:only-of-type {\n",
       "        vertical-align: middle;\n",
       "    }\n",
       "\n",
       "    .dataframe tbody tr th {\n",
       "        vertical-align: top;\n",
       "    }\n",
       "\n",
       "    .dataframe thead th {\n",
       "        text-align: right;\n",
       "    }\n",
       "</style>\n",
       "<table border=\"1\" class=\"dataframe\">\n",
       "  <thead>\n",
       "    <tr style=\"text-align: right;\">\n",
       "      <th></th>\n",
       "      <th>A</th>\n",
       "      <th>B</th>\n",
       "      <th>C</th>\n",
       "      <th>D</th>\n",
       "      <th>E</th>\n",
       "      <th>F</th>\n",
       "      <th>G</th>\n",
       "    </tr>\n",
       "  </thead>\n",
       "  <tbody>\n",
       "    <tr>\n",
       "      <th>0</th>\n",
       "      <td>2.098433</td>\n",
       "      <td>-0.739029</td>\n",
       "      <td>0.972341</td>\n",
       "      <td>1.042594</td>\n",
       "      <td>NaN</td>\n",
       "      <td>NaN</td>\n",
       "      <td>NaN</td>\n",
       "    </tr>\n",
       "    <tr>\n",
       "      <th>1</th>\n",
       "      <td>0.059471</td>\n",
       "      <td>-0.114141</td>\n",
       "      <td>-1.092738</td>\n",
       "      <td>-0.411650</td>\n",
       "      <td>NaN</td>\n",
       "      <td>NaN</td>\n",
       "      <td>NaN</td>\n",
       "    </tr>\n",
       "    <tr>\n",
       "      <th>2</th>\n",
       "      <td>2.299899</td>\n",
       "      <td>-2.190326</td>\n",
       "      <td>0.286111</td>\n",
       "      <td>-0.447949</td>\n",
       "      <td>NaN</td>\n",
       "      <td>NaN</td>\n",
       "      <td>NaN</td>\n",
       "    </tr>\n",
       "    <tr>\n",
       "      <th>3</th>\n",
       "      <td>0.321039</td>\n",
       "      <td>0.489466</td>\n",
       "      <td>0.563414</td>\n",
       "      <td>-0.652228</td>\n",
       "      <td>NaN</td>\n",
       "      <td>NaN</td>\n",
       "      <td>NaN</td>\n",
       "    </tr>\n",
       "    <tr>\n",
       "      <th>4</th>\n",
       "      <td>NaN</td>\n",
       "      <td>0.142348</td>\n",
       "      <td>NaN</td>\n",
       "      <td>-0.547244</td>\n",
       "      <td>-1.744574</td>\n",
       "      <td>-0.028811</td>\n",
       "      <td>-1.179137</td>\n",
       "    </tr>\n",
       "    <tr>\n",
       "      <th>5</th>\n",
       "      <td>NaN</td>\n",
       "      <td>0.141600</td>\n",
       "      <td>NaN</td>\n",
       "      <td>-1.148326</td>\n",
       "      <td>0.364796</td>\n",
       "      <td>-1.601593</td>\n",
       "      <td>1.736619</td>\n",
       "    </tr>\n",
       "    <tr>\n",
       "      <th>6</th>\n",
       "      <td>NaN</td>\n",
       "      <td>-0.140747</td>\n",
       "      <td>NaN</td>\n",
       "      <td>-1.829275</td>\n",
       "      <td>0.732179</td>\n",
       "      <td>-1.037417</td>\n",
       "      <td>1.166752</td>\n",
       "    </tr>\n",
       "    <tr>\n",
       "      <th>7</th>\n",
       "      <td>NaN</td>\n",
       "      <td>0.132569</td>\n",
       "      <td>NaN</td>\n",
       "      <td>1.068884</td>\n",
       "      <td>0.777326</td>\n",
       "      <td>-0.713951</td>\n",
       "      <td>0.684661</td>\n",
       "    </tr>\n",
       "    <tr>\n",
       "      <th>8</th>\n",
       "      <td>NaN</td>\n",
       "      <td>-0.227335</td>\n",
       "      <td>NaN</td>\n",
       "      <td>-0.451675</td>\n",
       "      <td>1.136526</td>\n",
       "      <td>-1.660873</td>\n",
       "      <td>0.005942</td>\n",
       "    </tr>\n",
       "  </tbody>\n",
       "</table>\n",
       "</div>"
      ],
      "text/plain": [
       "          A         B         C         D         E         F         G\n",
       "0  2.098433 -0.739029  0.972341  1.042594       NaN       NaN       NaN\n",
       "1  0.059471 -0.114141 -1.092738 -0.411650       NaN       NaN       NaN\n",
       "2  2.299899 -2.190326  0.286111 -0.447949       NaN       NaN       NaN\n",
       "3  0.321039  0.489466  0.563414 -0.652228       NaN       NaN       NaN\n",
       "4       NaN  0.142348       NaN -0.547244 -1.744574 -0.028811 -1.179137\n",
       "5       NaN  0.141600       NaN -1.148326  0.364796 -1.601593  1.736619\n",
       "6       NaN -0.140747       NaN -1.829275  0.732179 -1.037417  1.166752\n",
       "7       NaN  0.132569       NaN  1.068884  0.777326 -0.713951  0.684661\n",
       "8       NaN -0.227335       NaN -0.451675  1.136526 -1.660873  0.005942"
      ]
     },
     "execution_count": 17,
     "metadata": {},
     "output_type": "execute_result"
    }
   ],
   "source": [
    "pd.concat([df1,df2],ignore_index=True) #follows proper indexing"
   ]
  },
  {
   "cell_type": "code",
   "execution_count": 18,
   "metadata": {},
   "outputs": [
    {
     "data": {
      "text/html": [
       "<div>\n",
       "<style scoped>\n",
       "    .dataframe tbody tr th:only-of-type {\n",
       "        vertical-align: middle;\n",
       "    }\n",
       "\n",
       "    .dataframe tbody tr th {\n",
       "        vertical-align: top;\n",
       "    }\n",
       "\n",
       "    .dataframe thead th {\n",
       "        text-align: right;\n",
       "    }\n",
       "</style>\n",
       "<table border=\"1\" class=\"dataframe\">\n",
       "  <thead>\n",
       "    <tr style=\"text-align: right;\">\n",
       "      <th></th>\n",
       "      <th>A</th>\n",
       "      <th>B</th>\n",
       "      <th>C</th>\n",
       "      <th>D</th>\n",
       "      <th>D</th>\n",
       "      <th>B</th>\n",
       "      <th>E</th>\n",
       "      <th>F</th>\n",
       "      <th>G</th>\n",
       "    </tr>\n",
       "  </thead>\n",
       "  <tbody>\n",
       "    <tr>\n",
       "      <th>0</th>\n",
       "      <td>2.098433</td>\n",
       "      <td>-0.739029</td>\n",
       "      <td>0.972341</td>\n",
       "      <td>1.042594</td>\n",
       "      <td>-0.547244</td>\n",
       "      <td>0.142348</td>\n",
       "      <td>-1.744574</td>\n",
       "      <td>-0.028811</td>\n",
       "      <td>-1.179137</td>\n",
       "    </tr>\n",
       "    <tr>\n",
       "      <th>1</th>\n",
       "      <td>0.059471</td>\n",
       "      <td>-0.114141</td>\n",
       "      <td>-1.092738</td>\n",
       "      <td>-0.411650</td>\n",
       "      <td>-1.148326</td>\n",
       "      <td>0.141600</td>\n",
       "      <td>0.364796</td>\n",
       "      <td>-1.601593</td>\n",
       "      <td>1.736619</td>\n",
       "    </tr>\n",
       "    <tr>\n",
       "      <th>2</th>\n",
       "      <td>2.299899</td>\n",
       "      <td>-2.190326</td>\n",
       "      <td>0.286111</td>\n",
       "      <td>-0.447949</td>\n",
       "      <td>-1.829275</td>\n",
       "      <td>-0.140747</td>\n",
       "      <td>0.732179</td>\n",
       "      <td>-1.037417</td>\n",
       "      <td>1.166752</td>\n",
       "    </tr>\n",
       "    <tr>\n",
       "      <th>3</th>\n",
       "      <td>0.321039</td>\n",
       "      <td>0.489466</td>\n",
       "      <td>0.563414</td>\n",
       "      <td>-0.652228</td>\n",
       "      <td>1.068884</td>\n",
       "      <td>0.132569</td>\n",
       "      <td>0.777326</td>\n",
       "      <td>-0.713951</td>\n",
       "      <td>0.684661</td>\n",
       "    </tr>\n",
       "    <tr>\n",
       "      <th>4</th>\n",
       "      <td>NaN</td>\n",
       "      <td>NaN</td>\n",
       "      <td>NaN</td>\n",
       "      <td>NaN</td>\n",
       "      <td>-0.451675</td>\n",
       "      <td>-0.227335</td>\n",
       "      <td>1.136526</td>\n",
       "      <td>-1.660873</td>\n",
       "      <td>0.005942</td>\n",
       "    </tr>\n",
       "  </tbody>\n",
       "</table>\n",
       "</div>"
      ],
      "text/plain": [
       "          A         B         C         D         D         B         E  \\\n",
       "0  2.098433 -0.739029  0.972341  1.042594 -0.547244  0.142348 -1.744574   \n",
       "1  0.059471 -0.114141 -1.092738 -0.411650 -1.148326  0.141600  0.364796   \n",
       "2  2.299899 -2.190326  0.286111 -0.447949 -1.829275 -0.140747  0.732179   \n",
       "3  0.321039  0.489466  0.563414 -0.652228  1.068884  0.132569  0.777326   \n",
       "4       NaN       NaN       NaN       NaN -0.451675 -0.227335  1.136526   \n",
       "\n",
       "          F         G  \n",
       "0 -0.028811 -1.179137  \n",
       "1 -1.601593  1.736619  \n",
       "2 -1.037417  1.166752  \n",
       "3 -0.713951  0.684661  \n",
       "4 -1.660873  0.005942  "
      ]
     },
     "execution_count": 18,
     "metadata": {},
     "output_type": "execute_result"
    }
   ],
   "source": [
    "pd.concat([df1,df2],axis=1)"
   ]
  },
  {
   "cell_type": "code",
   "execution_count": null,
   "metadata": {},
   "outputs": [],
   "source": []
  }
 ],
 "metadata": {
  "kernelspec": {
   "display_name": "Python 3",
   "language": "python",
   "name": "python3"
  },
  "language_info": {
   "codemirror_mode": {
    "name": "ipython",
    "version": 3
   },
   "file_extension": ".py",
   "mimetype": "text/x-python",
   "name": "python",
   "nbconvert_exporter": "python",
   "pygments_lexer": "ipython3",
   "version": "3.8.5"
  }
 },
 "nbformat": 4,
 "nbformat_minor": 4
}
